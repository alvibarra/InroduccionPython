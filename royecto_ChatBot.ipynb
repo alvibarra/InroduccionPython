{
  "nbformat": 4,
  "nbformat_minor": 0,
  "metadata": {
    "colab": {
      "provenance": [],
      "authorship_tag": "ABX9TyN08oRZZ9XESjOweuLKE+bR",
      "include_colab_link": true
    },
    "kernelspec": {
      "name": "python3",
      "display_name": "Python 3"
    },
    "language_info": {
      "name": "python"
    }
  },
  "cells": [
    {
      "cell_type": "markdown",
      "metadata": {
        "id": "view-in-github",
        "colab_type": "text"
      },
      "source": [
        "<a href=\"https://colab.research.google.com/github/alvibarra/InroduccionPython/blob/main/royecto_ChatBot.ipynb\" target=\"_parent\"><img src=\"https://colab.research.google.com/assets/colab-badge.svg\" alt=\"Open In Colab\"/></a>"
      ]
    },
    {
      "cell_type": "code",
      "execution_count": null,
      "metadata": {
        "id": "dFcr87xW_LER"
      },
      "outputs": [],
      "source": []
    },
    {
      "cell_type": "markdown",
      "source": [
        "<!-- ETAPA 1 -->\n",
        "# Proyecto 1 ChatBot simple\n",
        "\n",
        "\n",
        "**Fecha:** 6 de octubre de 2025  \n",
        "\n",
        "**Curso:** Visualización de datos con Python en la nube  \n",
        "\n",
        "**Autor:** Álvaro de Jesús Ibarra Beltrán  \n",
        "\n",
        "**Institución:** _Centro Universitario de Ciencias Económico Administrativas_  "
      ],
      "metadata": {
        "id": "yGW85Msl_M8C"
      }
    },
    {
      "cell_type": "code",
      "source": [
        "#ETAPA 2\n",
        "#Presentación del Chat Bot\n",
        "print(\"Hola!\\n\")\n",
        "print (\"Soy el ChatBot de Alvaro Ibarra\\n\")\n",
        "print(\"fui creado en una práctica de Python en octubre de 2025\\n\")\n",
        "nombreusuario = input(\"¿Cómo te llamas tú?\\n\")\n",
        "print(f\"Hola,{nombreusuario}, gusto en conocerte!\")\n",
        "\n",
        "#Instrucciones  del juego para el usuario\n",
        "print(f\"Muy bien, vamos a jugar un juego: Piensa en la edad de un personaje ficticio y mantenla en tu mente. (debe ser un número entero y menor o igual a 105).\\n Luego, yo te haré algunas preguntas y adivinaré esa edad\")\n",
        "print(\".\")\n",
        "\n",
        "Again = 1 # Initialize Again to enter the loop at least once\n",
        "\n",
        "while Again == 1:\n",
        "    # Preguntar el residuo de la división por 3 y validar la entrada\n",
        "    while True:\n",
        "        try:\n",
        "            R3 = int(input(\"Si divides esa edad entre 3, ¿cuántos años te sobran? \"))\n",
        "            break  # Exit the loop if input is a valid integer\n",
        "        except ValueError:\n",
        "            print(\"¡Entrada inválida! Por favor, ingresa un número entero.\")\n",
        "\n",
        "    # Preguntar el residuo de la división por 5\n",
        "    R5 = int(input(\"Si divides la edad entre 5, ¿cuántos años te sobran? \"))\n",
        "\n",
        "    # Preguntar el residuo de la división por 7\n",
        "    R7 = int(input(\"Si divides la edad entre 7, ¿cuántos años te sobran? \"))\n",
        "\n",
        "    # Imprimir los residuos para verificar\n",
        "    print(f\"Los residuos son: R3 = {R3}, R5 = {R5}, R7 = {R7}\")\n",
        "\n",
        "    # Calcular el valor según la fórmula\n",
        "    suma_productos = (70 * R3) + (21 * R5) + (15 * R7)\n",
        "\n",
        "    # Dividir la suma de productos entre 105 y guardar el resultado en EdadCalculada\n",
        "    EdadCalculada = suma_productos % 105\n",
        "    print(f\"La edad en que pensaste, si no me equivoco, es {EdadCalculada} años.\")\n",
        "\n",
        "    #Pregunta de opción múltiple\n",
        "    Again = int(input(f\"Te gustó, verdad, {nombreusuario}? Jugamos otra vez? \\n\"\n",
        "                       \"Responde con 1 o 2 \\n\"\n",
        "                       \"1. Sí \\n\"\n",
        "                       \"2. No\\n\"))\n",
        "    print(Again)\n",
        "\n",
        "if Again == 2:\n",
        "    print(f\"Excelente, {nombreusuario}, fue un placer. Espero te hayas divertido como yo. Hasta pronto!\")"
      ],
      "metadata": {
        "colab": {
          "base_uri": "https://localhost:8080/"
        },
        "id": "DnrfNDxhCH3Y",
        "outputId": "809309ef-9c8a-4240-c173-c2951009ca85"
      },
      "execution_count": null,
      "outputs": [
        {
          "output_type": "stream",
          "name": "stdout",
          "text": [
            "Hola!\n",
            "\n",
            "Soy el ChatBot de Alvaro Ibarra\n",
            "\n",
            "fui creado en una práctica de Python en octubre de 2025\n",
            "\n",
            "¿Cómo te llamas tú?\n",
            "Sherlock\n",
            "Hola,Sherlock, gusto en conocerte!\n",
            "Muy bien, vamos a jugar un juego: Piensa en la edad de un personaje ficticio y mantenla en tu mente. (debe ser un número entero y menor o igual a 105).\n",
            " Luego, yo te haré algunas preguntas y adivinaré esa edad\n",
            ".\n",
            "Si divides esa edad entre 3, ¿cuántos años te sobran? 0\n",
            "Si divides la edad entre 5, ¿cuántos años te sobran? 4\n",
            "Si divides la edad entre 7, ¿cuántos años te sobran? 4\n",
            "Los residuos son: R3 = 0, R5 = 4, R7 = 4\n",
            "La edad en que pensaste, si no me equivoco, es 39 años.\n",
            "Te gustó, verdad, Sherlock? Jugamos otra vez? \n",
            "Responde con 1 o 2 \n",
            "1. Sí \n",
            "2. No\n",
            "2\n",
            "2\n",
            "Excelente, Sherlock, fue un placer. Espero te hayas divertido como yo. Hasta pronto!\n"
          ]
        }
      ]
    }
  ]
}