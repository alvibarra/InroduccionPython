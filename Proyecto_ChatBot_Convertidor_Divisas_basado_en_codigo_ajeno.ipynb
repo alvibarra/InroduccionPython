{
  "nbformat": 4,
  "nbformat_minor": 0,
  "metadata": {
    "colab": {
      "provenance": [],
      "authorship_tag": "ABX9TyN4Ikz0oxYkRkSmF/yluw4q",
      "include_colab_link": true
    },
    "kernelspec": {
      "name": "python3",
      "display_name": "Python 3"
    },
    "language_info": {
      "name": "python"
    }
  },
  "cells": [
    {
      "cell_type": "markdown",
      "metadata": {
        "id": "view-in-github",
        "colab_type": "text"
      },
      "source": [
        "<a href=\"https://colab.research.google.com/github/alvibarra/InroduccionPython/blob/main/Proyecto_ChatBot_Convertidor_Divisas_basado_en_codigo_ajeno.ipynb\" target=\"_parent\"><img src=\"https://colab.research.google.com/assets/colab-badge.svg\" alt=\"Open In Colab\"/></a>"
      ]
    },
    {
      "cell_type": "code",
      "execution_count": null,
      "metadata": {
        "id": "2O9FFnTasfhi"
      },
      "outputs": [],
      "source": []
    },
    {
      "cell_type": "markdown",
      "source": [],
      "metadata": {
        "id": "PbGicMMOswPY"
      }
    },
    {
      "cell_type": "markdown",
      "source": [
        "<!-- ETAPA 1 -->\n",
        "# Proyecto 2. Convertidor de divisas\n",
        "\n",
        "\n",
        "**Fecha:** 20 de octubre de 2025\n",
        "\n",
        "**Curso:** Visualización de datos con Python en la nube  \n",
        "\n",
        "**Autor:** Álvaro de Jesús Ibarra Beltrán  \n",
        "\n",
        "**Institución:** _Centro Universitario de Ciencias Económico Administrativas_"
      ],
      "metadata": {
        "id": "aMEwYUGje3VK"
      }
    },
    {
      "cell_type": "markdown",
      "source": [
        "### Preparar el entorno y definir la función para descarga de datos"
      ],
      "metadata": {
        "id": "_-l8LMm-EuJW"
      }
    },
    {
      "cell_type": "code",
      "execution_count": 1,
      "metadata": {
        "id": "V3wXCwGPUNX5"
      },
      "outputs": [],
      "source": [
        "import json\n",
        "import requests\n",
        "\n",
        "def currency_search(cur):\n",
        "    r = requests.get(\"http://www.floatrates.com/daily/{}.json\".format(cur))\n",
        "    return r.text\n"
      ]
    },
    {
      "cell_type": "markdown",
      "source": [
        "#### Preguntar por la divisa inicial, descargar JSON con valores de conversión y definir diccionario para divisas"
      ],
      "metadata": {
        "id": "gUWl_x3cFETT"
      }
    },
    {
      "cell_type": "code",
      "source": [
        "print(\"\"\"\n",
        "Este es  un convertidor de divisas.\n",
        "Para iniciar, se le pide introducir un código de tres letras para la divisa origen (por ejemplo, MXN),\n",
        "y el código correspondiente de la divisa destino (por ejemplo, USD) y la cantidad que a convertir.\n",
        "El resultado será la cantidad en la divisa destino.\n",
        "Si quieres salir de programa, solo pulsa la tecla Enter al momento de especificar\n",
        "la divisa. No permite introducir caracteres en vez de números ni divisas que no están en la base de datos.\n",
        "¡Que sus conversiones sean útiles!\n",
        "------------------------------------------------------------------------------\n",
        "\"\"\")\n",
        "\n",
        "exchange_dict = ()\n",
        "my_currency = str(input(\"Divisa inicial: \"))\n",
        "my_currency = my_currency.lower()\n",
        "if my_currency == \"\":\n",
        "  print(\"¡Adios!\")\n",
        "else:\n",
        "  try:\n",
        "    exchange_file = currency_search(my_currency)\n",
        "    exchange_dict = json.loads(exchange_file)\n",
        "    #print(json.dumps(exchange_dict, indent=4))\n",
        "    print(\"Divisa slocalizada. Cotinuemos\")\n",
        "  except:\n",
        "    print(\"Divisa no localizada en la base de datos\")"
      ],
      "metadata": {
        "colab": {
          "base_uri": "https://localhost:8080/"
        },
        "id": "I8sqLqMEWjCr",
        "outputId": "13aa0eab-b3df-406e-da2d-467ac84a70fb"
      },
      "execution_count": 2,
      "outputs": [
        {
          "output_type": "stream",
          "name": "stdout",
          "text": [
            "\n",
            "Este es  un convertidor de divisas.\n",
            "Para iniciar, se le pide introducir un código de tres letras para la divisa origen (por ejemplo, MXN),\n",
            "y el código correspondiente de la divisa destino (por ejemplo, USD) y la cantidad que a convertir.\n",
            "El resultado será la cantidad en la divisa destino.\n",
            "Si quieres salir de programa, solo pulsa la tecla Enter al momento de especificar\n",
            "la divisa. No permite introducir caracteres en vez de números ni divisas que no están en la base de datos.\n",
            "¡Que sus conversiones sean útiles!\n",
            "------------------------------------------------------------------------------\n",
            "\n",
            "Divisa inicial: USD\n",
            "Divisa slocalizada. Cotinuemos\n"
          ]
        }
      ]
    },
    {
      "cell_type": "markdown",
      "source": [
        "#### Preguntar datos para conversión (divisa destino y monto) e imprimir el valor calculado"
      ],
      "metadata": {
        "id": "pafQPwtQFes_"
      }
    },
    {
      "cell_type": "code",
      "source": [
        "while exchange_dict:\n",
        "    target = str(input(\"\\nDivisa destino: \"))\n",
        "    if target == \"\":\n",
        "        print(\"¡Adios!\")\n",
        "        break\n",
        "    target = target.lower()\n",
        "    try:\n",
        "      cambio = exchange_dict[target][\"rate\"]\n",
        "    except:\n",
        "      print(\"Divisa no encontrada\")\n",
        "      continue\n",
        "    try:\n",
        "      amount = float(input(f\"Cantidad de dinero por convertir ({my_currency.upper()}): \"))\n",
        "    except:\n",
        "      print(\"Cantidad introducida no es valida\")\n",
        "      continue\n",
        "\n",
        "    target_amount = cambio * amount\n",
        "    print(\"Resultado de conversión: {} {}.\".format(round(target_amount, 2), target.upper()))\n",
        "\n",
        "\n",
        "\n",
        "\n"
      ],
      "metadata": {
        "colab": {
          "base_uri": "https://localhost:8080/"
        },
        "id": "-rRIP9pKUtF3",
        "outputId": "55ae27ad-1aea-4bef-c069-4843d913e83d"
      },
      "execution_count": null,
      "outputs": [
        {
          "output_type": "stream",
          "name": "stdout",
          "text": [
            "\n",
            "Divisa destino: MXN\n",
            "Cantidad de dinero por convertir (USD): 100\n",
            "Resultado de conversión: 1843.74 MXN.\n",
            "\n",
            "Divisa destino: RXX\n",
            "Divisa no encontrada\n"
          ]
        }
      ]
    }
  ]
}