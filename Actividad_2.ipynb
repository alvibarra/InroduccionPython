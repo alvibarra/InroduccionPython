{
  "nbformat": 4,
  "nbformat_minor": 0,
  "metadata": {
    "colab": {
      "provenance": [],
      "authorship_tag": "ABX9TyPsKUyTx9YqxFutEwYKzhEZ",
      "include_colab_link": true
    },
    "kernelspec": {
      "name": "python3",
      "display_name": "Python 3"
    },
    "language_info": {
      "name": "python"
    }
  },
  "cells": [
    {
      "cell_type": "markdown",
      "metadata": {
        "id": "view-in-github",
        "colab_type": "text"
      },
      "source": [
        "<a href=\"https://colab.research.google.com/github/alvibarra/InroduccionPython/blob/main/Actividad_2.ipynb\" target=\"_parent\"><img src=\"https://colab.research.google.com/assets/colab-badge.svg\" alt=\"Open In Colab\"/></a>"
      ]
    },
    {
      "cell_type": "markdown",
      "source": [
        "# Actividad No. 2 Uso de Google Drive en combinación con Google Colab  \n",
        "\n",
        "**Fecha:** 30 de septiembre de 2025  \n",
        "\n",
        "**Curso:** Visualización de datos con Python en la nube  \n",
        "\n",
        "**Autor:** Álvaro de Jesús Ibarra Beltrán  \n",
        "\n",
        "**Institución:** _Centro Universitario de Ciencias Económico Administrativas_  "
      ],
      "metadata": {
        "id": "hGQ5Gu1CWDpt"
      }
    },
    {
      "cell_type": "code",
      "execution_count": 1,
      "metadata": {
        "colab": {
          "base_uri": "https://localhost:8080/"
        },
        "id": "eD-39B8EBX6J",
        "outputId": "876b17a3-c0e1-4f41-dbb6-9a6f05684417"
      },
      "outputs": [
        {
          "output_type": "stream",
          "name": "stdout",
          "text": [
            "Mounted at /content/drive\n"
          ]
        }
      ],
      "source": [
        "from google.colab import drive\n",
        "drive.mount('/content/drive')"
      ]
    },
    {
      "cell_type": "code",
      "source": [
        "ruta = \"/content/drive/MyDrive/Colab Data/\"\n",
        "archivo = \"Actividad2_Alvaro_Ibarra.txt\"\n",
        "with open(ruta+archivo, \"r\") as f:\n",
        "  d = f.read()\n",
        "  print(d)"
      ],
      "metadata": {
        "colab": {
          "base_uri": "https://localhost:8080/"
        },
        "id": "BfSpF-NJJYo5",
        "outputId": "58410736-19b0-48a3-f65d-fb4e5216caec"
      },
      "execution_count": 2,
      "outputs": [
        {
          "output_type": "stream",
          "name": "stdout",
          "text": [
            "Actividad 2\n",
            "Por: Alvaro Ibarra\n"
          ]
        }
      ]
    },
    {
      "cell_type": "code",
      "source": [],
      "metadata": {
        "id": "89Fzn-K3KhX4"
      },
      "execution_count": null,
      "outputs": []
    }
  ]
}